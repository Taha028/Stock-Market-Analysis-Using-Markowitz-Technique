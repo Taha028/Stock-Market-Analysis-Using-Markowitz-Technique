{
 "cells": [
  {
   "cell_type": "code",
   "execution_count": 1,
   "metadata": {},
   "outputs": [],
   "source": [
    "import pandas as pd\n",
    "import numpy as np\n",
    "import matplotlib.pyplot as plt"
   ]
  },
  {
   "cell_type": "code",
   "execution_count": 2,
   "metadata": {},
   "outputs": [],
   "source": [
    "prices = pd.read_csv(\"stock.csv\", parse_dates = [\"Date\"])"
   ]
  },
  {
   "cell_type": "code",
   "execution_count": 3,
   "metadata": {},
   "outputs": [
    {
     "data": {
      "text/html": [
       "<div>\n",
       "<style scoped>\n",
       "    .dataframe tbody tr th:only-of-type {\n",
       "        vertical-align: middle;\n",
       "    }\n",
       "\n",
       "    .dataframe tbody tr th {\n",
       "        vertical-align: top;\n",
       "    }\n",
       "\n",
       "    .dataframe thead th {\n",
       "        text-align: right;\n",
       "    }\n",
       "</style>\n",
       "<table border=\"1\" class=\"dataframe\">\n",
       "  <thead>\n",
       "    <tr style=\"text-align: right;\">\n",
       "      <th></th>\n",
       "      <th>Date</th>\n",
       "      <th>Open Price</th>\n",
       "      <th>High Price</th>\n",
       "      <th>Low Price</th>\n",
       "      <th>Close Price</th>\n",
       "      <th>Adj Close Price</th>\n",
       "      <th>Volume</th>\n",
       "    </tr>\n",
       "  </thead>\n",
       "  <tbody>\n",
       "    <tr>\n",
       "      <th>0</th>\n",
       "      <td>2014-05-27</td>\n",
       "      <td>87.982857</td>\n",
       "      <td>89.408569</td>\n",
       "      <td>87.947144</td>\n",
       "      <td>89.375717</td>\n",
       "      <td>80.948952</td>\n",
       "      <td>87216500</td>\n",
       "    </tr>\n",
       "    <tr>\n",
       "      <th>1</th>\n",
       "      <td>2014-05-28</td>\n",
       "      <td>89.431427</td>\n",
       "      <td>89.975716</td>\n",
       "      <td>89.111427</td>\n",
       "      <td>89.144287</td>\n",
       "      <td>80.739334</td>\n",
       "      <td>78870400</td>\n",
       "    </tr>\n",
       "    <tr>\n",
       "      <th>2</th>\n",
       "      <td>2014-05-29</td>\n",
       "      <td>89.692856</td>\n",
       "      <td>90.981430</td>\n",
       "      <td>89.681427</td>\n",
       "      <td>90.768570</td>\n",
       "      <td>82.210480</td>\n",
       "      <td>94118500</td>\n",
       "    </tr>\n",
       "    <tr>\n",
       "      <th>3</th>\n",
       "      <td>2014-05-30</td>\n",
       "      <td>91.139999</td>\n",
       "      <td>92.024284</td>\n",
       "      <td>89.842857</td>\n",
       "      <td>90.428574</td>\n",
       "      <td>81.902557</td>\n",
       "      <td>141005200</td>\n",
       "    </tr>\n",
       "    <tr>\n",
       "      <th>4</th>\n",
       "      <td>2014-06-02</td>\n",
       "      <td>90.565712</td>\n",
       "      <td>90.690002</td>\n",
       "      <td>88.928574</td>\n",
       "      <td>89.807144</td>\n",
       "      <td>81.339699</td>\n",
       "      <td>92337700</td>\n",
       "    </tr>\n",
       "  </tbody>\n",
       "</table>\n",
       "</div>"
      ],
      "text/plain": [
       "        Date  Open Price  High Price  Low Price  Close Price  Adj Close Price  \\\n",
       "0 2014-05-27   87.982857   89.408569  87.947144    89.375717        80.948952   \n",
       "1 2014-05-28   89.431427   89.975716  89.111427    89.144287        80.739334   \n",
       "2 2014-05-29   89.692856   90.981430  89.681427    90.768570        82.210480   \n",
       "3 2014-05-30   91.139999   92.024284  89.842857    90.428574        81.902557   \n",
       "4 2014-06-02   90.565712   90.690002  88.928574    89.807144        81.339699   \n",
       "\n",
       "      Volume  \n",
       "0   87216500  \n",
       "1   78870400  \n",
       "2   94118500  \n",
       "3  141005200  \n",
       "4   92337700  "
      ]
     },
     "execution_count": 3,
     "metadata": {},
     "output_type": "execute_result"
    }
   ],
   "source": [
    "prices.head()"
   ]
  },
  {
   "cell_type": "code",
   "execution_count": 4,
   "metadata": {},
   "outputs": [],
   "source": [
    "stock=pd.DataFrame()\n",
    "stock[\"Date\"] = prices[\"Date\"]\n",
    "stock[\"Apple\"] = prices[\"Adj Close Price\"]"
   ]
  },
  {
   "cell_type": "code",
   "execution_count": 5,
   "metadata": {},
   "outputs": [],
   "source": [
    "# Short term Simple Moving Average : 30 days\n",
    "stock[\"SMA30\"] = stock[\"Apple\"].rolling(30).mean()\n",
    "\n",
    "# long term Simple Moving Average : 100 days\n",
    "stock[\"SMA100\"] = stock[\"Apple\"].rolling(100).mean()"
   ]
  },
  {
   "cell_type": "code",
   "execution_count": 6,
   "metadata": {},
   "outputs": [
    {
     "data": {
      "text/html": [
       "<div>\n",
       "<style scoped>\n",
       "    .dataframe tbody tr th:only-of-type {\n",
       "        vertical-align: middle;\n",
       "    }\n",
       "\n",
       "    .dataframe tbody tr th {\n",
       "        vertical-align: top;\n",
       "    }\n",
       "\n",
       "    .dataframe thead th {\n",
       "        text-align: right;\n",
       "    }\n",
       "</style>\n",
       "<table border=\"1\" class=\"dataframe\">\n",
       "  <thead>\n",
       "    <tr style=\"text-align: right;\">\n",
       "      <th></th>\n",
       "      <th>Date</th>\n",
       "      <th>Apple</th>\n",
       "      <th>SMA30</th>\n",
       "      <th>SMA100</th>\n",
       "    </tr>\n",
       "  </thead>\n",
       "  <tbody>\n",
       "    <tr>\n",
       "      <th>0</th>\n",
       "      <td>2014-05-27</td>\n",
       "      <td>80.948952</td>\n",
       "      <td>NaN</td>\n",
       "      <td>NaN</td>\n",
       "    </tr>\n",
       "    <tr>\n",
       "      <th>1</th>\n",
       "      <td>2014-05-28</td>\n",
       "      <td>80.739334</td>\n",
       "      <td>NaN</td>\n",
       "      <td>NaN</td>\n",
       "    </tr>\n",
       "    <tr>\n",
       "      <th>2</th>\n",
       "      <td>2014-05-29</td>\n",
       "      <td>82.210480</td>\n",
       "      <td>NaN</td>\n",
       "      <td>NaN</td>\n",
       "    </tr>\n",
       "    <tr>\n",
       "      <th>3</th>\n",
       "      <td>2014-05-30</td>\n",
       "      <td>81.902557</td>\n",
       "      <td>NaN</td>\n",
       "      <td>NaN</td>\n",
       "    </tr>\n",
       "    <tr>\n",
       "      <th>4</th>\n",
       "      <td>2014-06-02</td>\n",
       "      <td>81.339699</td>\n",
       "      <td>NaN</td>\n",
       "      <td>NaN</td>\n",
       "    </tr>\n",
       "    <tr>\n",
       "      <th>...</th>\n",
       "      <td>...</td>\n",
       "      <td>...</td>\n",
       "      <td>...</td>\n",
       "      <td>...</td>\n",
       "    </tr>\n",
       "    <tr>\n",
       "      <th>105</th>\n",
       "      <td>2014-10-23</td>\n",
       "      <td>95.418404</td>\n",
       "      <td>91.419804</td>\n",
       "      <td>88.381603</td>\n",
       "    </tr>\n",
       "    <tr>\n",
       "      <th>106</th>\n",
       "      <td>2014-10-24</td>\n",
       "      <td>95.773392</td>\n",
       "      <td>91.527816</td>\n",
       "      <td>88.505018</td>\n",
       "    </tr>\n",
       "    <tr>\n",
       "      <th>107</th>\n",
       "      <td>2014-10-27</td>\n",
       "      <td>95.673256</td>\n",
       "      <td>91.633402</td>\n",
       "      <td>88.624158</td>\n",
       "    </tr>\n",
       "    <tr>\n",
       "      <th>108</th>\n",
       "      <td>2014-10-28</td>\n",
       "      <td>97.156906</td>\n",
       "      <td>91.811804</td>\n",
       "      <td>88.760437</td>\n",
       "    </tr>\n",
       "    <tr>\n",
       "      <th>109</th>\n",
       "      <td>2014-10-29</td>\n",
       "      <td>97.703041</td>\n",
       "      <td>91.986566</td>\n",
       "      <td>88.888813</td>\n",
       "    </tr>\n",
       "  </tbody>\n",
       "</table>\n",
       "<p>110 rows × 4 columns</p>\n",
       "</div>"
      ],
      "text/plain": [
       "          Date      Apple      SMA30     SMA100\n",
       "0   2014-05-27  80.948952        NaN        NaN\n",
       "1   2014-05-28  80.739334        NaN        NaN\n",
       "2   2014-05-29  82.210480        NaN        NaN\n",
       "3   2014-05-30  81.902557        NaN        NaN\n",
       "4   2014-06-02  81.339699        NaN        NaN\n",
       "..         ...        ...        ...        ...\n",
       "105 2014-10-23  95.418404  91.419804  88.381603\n",
       "106 2014-10-24  95.773392  91.527816  88.505018\n",
       "107 2014-10-27  95.673256  91.633402  88.624158\n",
       "108 2014-10-28  97.156906  91.811804  88.760437\n",
       "109 2014-10-29  97.703041  91.986566  88.888813\n",
       "\n",
       "[110 rows x 4 columns]"
      ]
     },
     "execution_count": 6,
     "metadata": {},
     "output_type": "execute_result"
    }
   ],
   "source": [
    "stock.head(110)"
   ]
  },
  {
   "cell_type": "code",
   "execution_count": 7,
   "metadata": {},
   "outputs": [],
   "source": [
    "def buy_sell(df):\n",
    "    buy_signal_price=[]\n",
    "    sell_signal_price=[]\n",
    "    holding=[]\n",
    "    action=[]\n",
    "    sig=0\n",
    "    for i, row in stock.iterrows():\n",
    "        if row[\"SMA30\"]>row[\"SMA100\"]:\n",
    "            holding.append(1)\n",
    "            if sig!=1:\n",
    "                buy_signal_price.append(row[\"Apple\"])\n",
    "                sell_signal_price.append(np.nan)\n",
    "                sig=1\n",
    "                action.append(sig)\n",
    "            else:\n",
    "                buy_signal_price.append(np.nan)\n",
    "                sell_signal_price.append(np.nan)\n",
    "                action.append(0)\n",
    "        elif row[\"SMA30\"] < row[\"SMA100\"]:\n",
    "            holding.append(0)\n",
    "            if sig!=-1:\n",
    "                sell_signal_price.append(row[\"Apple\"])\n",
    "                buy_signal_price.append(np.nan)\n",
    "                sig=-1\n",
    "                action.append(sig)\n",
    "            else:\n",
    "                buy_signal_price.append(np.nan)\n",
    "                sell_signal_price.append(np.nan)\n",
    "                action.append(0)\n",
    "        else:\n",
    "                holding.append(0)\n",
    "                buy_signal_price.append(np.nan)\n",
    "                sell_signal_price.append(np.nan)\n",
    "                action.append(0)\n",
    "    return buy_signal_price, sell_signal_price, holding, action\n",
    "\n",
    "                "
   ]
  },
  {
   "cell_type": "code",
   "execution_count": 8,
   "metadata": {},
   "outputs": [],
   "source": [
    "buysell=buy_sell(stock)"
   ]
  },
  {
   "cell_type": "code",
   "execution_count": 9,
   "metadata": {},
   "outputs": [],
   "source": [
    "pd.options.display.max_rows = None"
   ]
  },
  {
   "cell_type": "code",
   "execution_count": 10,
   "metadata": {},
   "outputs": [],
   "source": [
    "stock[\"Buy Price\"] = buysell[0]\n",
    "stock[\"Sell Price\"] = buysell[1]\n",
    "stock[\"Hold\"] = buysell[2]\n",
    "stock[\"Actions\"] = buysell[3]"
   ]
  },
  {
   "cell_type": "code",
   "execution_count": 11,
   "metadata": {},
   "outputs": [
    {
     "name": "stdout",
     "output_type": "stream",
     "text": [
      "['Solarize_Light2', '_classic_test_patch', 'bmh', 'classic', 'dark_background', 'fast', 'fivethirtyeight', 'ggplot', 'grayscale', 'seaborn', 'seaborn-bright', 'seaborn-colorblind', 'seaborn-dark', 'seaborn-dark-palette', 'seaborn-darkgrid', 'seaborn-deep', 'seaborn-muted', 'seaborn-notebook', 'seaborn-paper', 'seaborn-pastel', 'seaborn-poster', 'seaborn-talk', 'seaborn-ticks', 'seaborn-white', 'seaborn-whitegrid', 'tableau-colorblind10']\n"
     ]
    }
   ],
   "source": [
    "print(plt.style.available)"
   ]
  },
  {
   "cell_type": "code",
   "execution_count": 12,
   "metadata": {},
   "outputs": [
    {
     "data": {
      "image/png": "[encoded data removed]",
      "text/plain": [
       "<Figure size 1152x360 with 1 Axes>"
      ]
     },
     "metadata": {
      "needs_background": "dark"
     },
     "output_type": "display_data"
    }
   ],
   "source": [
    "plt.figure(figsize=(16,5))\n",
    "plt.style.use(\"dark_background\")\n",
    "plt.plot(stock[\"Date\"],stock[\"Apple\"],label=\"Apple\",alpha=0.4)#alpha is use for transperency between the graph line\n",
    "plt.plot(stock[\"Date\"],stock[\"SMA30\"],label=\"Apple\",alpha=0.4)\n",
    "plt.plot(stock[\"Date\"],stock[\"SMA100\"],label=\"Apple\",alpha=0.4)\n",
    "\n",
    "plt.scatter(stock[\"Date\"],stock[\"Buy Price\"], color=\"green\",marker=\"^\",s=120)#s is size of marker\n",
    "plt.scatter(stock[\"Date\"],stock[\"Sell Price\"], color=\"red\",marker=\"v\",s=120)#s is size of marker\n",
    "\n",
    "plt.title(\"Apple Historical Adj Close Price\")\n",
    "plt.xlabel(\"From 27 May 2014 to 22 May 2020\")\n",
    "plt.ylabel(\"Adj Close Price\")\n",
    "\n",
    "plt.legend()\n",
    "plt.show()\n",
    "\n",
    "\n"
   ]
  },
  {
   "cell_type": "code",
   "execution_count": null,
   "metadata": {},
   "outputs": [],
   "source": []
  },
  {
   "cell_type": "code",
   "execution_count": null,
   "metadata": {},
   "outputs": [],
   "source": []
  }
 ],
 "metadata": {
  "kernelspec": {
   "display_name": "Python 3",
   "language": "python",
   "name": "python3"
  },
  "language_info": {
   "codemirror_mode": {
    "name": "ipython",
    "version": 3
   },
   "file_extension": ".py",
   "mimetype": "text/x-python",
   "name": "python",
   "nbconvert_exporter": "python",
   "pygments_lexer": "ipython3",
   "version": "3.8.5"
  }
 },
 "nbformat": 4,
 "nbformat_minor": 4
}
